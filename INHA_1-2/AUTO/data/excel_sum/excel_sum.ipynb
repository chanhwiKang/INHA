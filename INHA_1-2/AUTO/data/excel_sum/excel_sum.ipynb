{
 "cells": [
  {
   "cell_type": "markdown",
   "metadata": {},
   "source": [
    "### 판매 보고서 만들기"
   ]
  },
  {
   "cell_type": "code",
   "execution_count": 7,
   "metadata": {},
   "outputs": [
    {
     "name": "stdout",
     "output_type": "stream",
     "text": [
      "[]\n"
     ]
    }
   ],
   "source": [
    "import glob\n",
    "\n",
    "reports = glob.glob(\"/Users/gangchanhwi/Desktop/INHA/INHA_1-2/AUTO/data/판매보고_*.xlsx\")\n",
    "print(reports)"
   ]
  },
  {
   "cell_type": "code",
   "execution_count": 6,
   "metadata": {},
   "outputs": [],
   "source": [
    "from openpyxl import load_workbook\n",
    "from openpyxl import Workbook\n",
    "\n",
    "\n",
    "shop_list = []\n",
    "data_list = []\n",
    "money_list = []\n",
    "\n",
    "for report in reports:\n",
    "    wb = load_workbook(report, data_only=True)\n",
    "    ws = wb.active\n",
    "    shop_list.append(ws['B1'].value)\n",
    "    data_list.append(ws['B2'].value)\n",
    "    money_list.append(ws['B3'].value)\n",
    "\n",
    "try:\n",
    "    wb = load_workbook(\"/Users/gangchanhwi/Desktop/INHA/INHA_1-2/AUTO/data/결과.xlsx\", data_only=True)\n",
    "    ws = wb.active\n",
    "except:\n",
    "    wb = Workbook()\n",
    "    ws = wb.active\n",
    "\n",
    "for i in range(len(shop_list)):\n",
    "    ws.cell(row = i + 1, column = 1).value = shop_list[i]\n",
    "    ws.cell(row = i + 1, column = 2).value = data_list[i]\n",
    "    ws.cell(row = i + 1, column = 3).value = money_list[i]\n",
    "\n",
    "wb.save(\"/Users/gangchanhwi/Desktop/INHA/INHA_1-2/AUTO/data/결과.xlsx\")\n"
   ]
  }
 ],
 "metadata": {
  "kernelspec": {
   "display_name": "Python 3",
   "language": "python",
   "name": "python3"
  },
  "language_info": {
   "codemirror_mode": {
    "name": "ipython",
    "version": 3
   },
   "file_extension": ".py",
   "mimetype": "text/x-python",
   "name": "python",
   "nbconvert_exporter": "python",
   "pygments_lexer": "ipython3",
   "version": "3.11.5"
  }
 },
 "nbformat": 4,
 "nbformat_minor": 2
}
