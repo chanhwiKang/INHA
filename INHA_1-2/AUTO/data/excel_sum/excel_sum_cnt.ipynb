{
 "cells": [
  {
   "cell_type": "code",
   "execution_count": 26,
   "metadata": {},
   "outputs": [
    {
     "name": "stdout",
     "output_type": "stream",
     "text": [
      "['/Users/gangchanhwi/Desktop/INHA/INHA_1-2/AUTO/data/발주서_해운대.xlsx', '/Users/gangchanhwi/Desktop/INHA/INHA_1-2/AUTO/data/발주서_시흥.xlsx', '/Users/gangchanhwi/Desktop/INHA/INHA_1-2/AUTO/data/발주서_청주.xlsx']\n"
     ]
    },
    {
     "data": {
      "text/plain": [
       "['/Users/gangchanhwi/Desktop/INHA/INHA_1-2/AUTO/data/발주서_해운대.xlsx',\n",
       " '/Users/gangchanhwi/Desktop/INHA/INHA_1-2/AUTO/data/발주서_시흥.xlsx',\n",
       " '/Users/gangchanhwi/Desktop/INHA/INHA_1-2/AUTO/data/발주서_청주.xlsx']"
      ]
     },
     "execution_count": 26,
     "metadata": {},
     "output_type": "execute_result"
    }
   ],
   "source": [
    "import glob \n",
    "from openpyxl import load_workbook\n",
    "import pandas as pd\n",
    "\n",
    "orders = glob.glob(\"/Users/gangchanhwi/Desktop/INHA/INHA_1-2/AUTO/data/발주서_*.xlsx\")\n",
    "print(orders)\n",
    "orders\n"
   ]
  },
  {
   "cell_type": "code",
   "execution_count": 27,
   "metadata": {},
   "outputs": [
    {
     "name": "stdout",
     "output_type": "stream",
     "text": [
      "['해운대', '시흥', '청주']\n",
      "['연필', '볼펜', '필통', '연필', '자', 'A4용지', '볼펜', '연필']\n",
      "[50, 100, 10, 100, 150, 100, 50, 50]\n"
     ]
    }
   ],
   "source": [
    "order_list = []\n",
    "product_list = []\n",
    "amount_list = []\n",
    "\n",
    "for order in orders:\n",
    "    wb = load_workbook(order, data_only=True)\n",
    "    ws = wb.active\n",
    "    order_list.append(ws[\"B1\"].value)\n",
    "    for data in ws[\"A4\":\"B12\"]:\n",
    "        for cell in data:\n",
    "            if cell.column == 1:\n",
    "                if cell.value is not None:\n",
    "                    product_list.append(cell.value)\n",
    "            elif cell.column == 2:\n",
    "                if cell.value is not None:\n",
    "                    amount_list.append(cell.value)\n",
    "print(order_list)\n",
    "print(product_list)\n",
    "print(amount_list)"
   ]
  },
  {
   "cell_type": "code",
   "execution_count": 28,
   "metadata": {},
   "outputs": [
    {
     "data": {
      "text/html": [
       "<div>\n",
       "<style scoped>\n",
       "    .dataframe tbody tr th:only-of-type {\n",
       "        vertical-align: middle;\n",
       "    }\n",
       "\n",
       "    .dataframe tbody tr th {\n",
       "        vertical-align: top;\n",
       "    }\n",
       "\n",
       "    .dataframe thead th {\n",
       "        text-align: right;\n",
       "    }\n",
       "</style>\n",
       "<table border=\"1\" class=\"dataframe\">\n",
       "  <thead>\n",
       "    <tr style=\"text-align: right;\">\n",
       "      <th></th>\n",
       "      <th>수량</th>\n",
       "    </tr>\n",
       "    <tr>\n",
       "      <th>물품</th>\n",
       "      <th></th>\n",
       "    </tr>\n",
       "  </thead>\n",
       "  <tbody>\n",
       "    <tr>\n",
       "      <th>A4용지</th>\n",
       "      <td>100</td>\n",
       "    </tr>\n",
       "    <tr>\n",
       "      <th>볼펜</th>\n",
       "      <td>150</td>\n",
       "    </tr>\n",
       "    <tr>\n",
       "      <th>연필</th>\n",
       "      <td>200</td>\n",
       "    </tr>\n",
       "    <tr>\n",
       "      <th>자</th>\n",
       "      <td>150</td>\n",
       "    </tr>\n",
       "    <tr>\n",
       "      <th>필통</th>\n",
       "      <td>10</td>\n",
       "    </tr>\n",
       "  </tbody>\n",
       "</table>\n",
       "</div>"
      ],
      "text/plain": [
       "       수량\n",
       "물품       \n",
       "A4용지  100\n",
       "볼펜    150\n",
       "연필    200\n",
       "자     150\n",
       "필통     10"
      ]
     },
     "execution_count": 28,
     "metadata": {},
     "output_type": "execute_result"
    }
   ],
   "source": [
    "df = pd.DataFrame({'물품':product_list, '수량':amount_list})\n",
    "df = df.groupby('물품').sum()\n",
    "df"
   ]
  }
 ],
 "metadata": {
  "kernelspec": {
   "display_name": "Python 3",
   "language": "python",
   "name": "python3"
  },
  "language_info": {
   "codemirror_mode": {
    "name": "ipython",
    "version": 3
   },
   "file_extension": ".py",
   "mimetype": "text/x-python",
   "name": "python",
   "nbconvert_exporter": "python",
   "pygments_lexer": "ipython3",
   "version": "3.11.5"
  }
 },
 "nbformat": 4,
 "nbformat_minor": 2
}
