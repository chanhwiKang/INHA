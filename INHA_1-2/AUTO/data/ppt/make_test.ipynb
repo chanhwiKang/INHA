{
 "cells": [
  {
   "cell_type": "markdown",
   "metadata": {},
   "source": [
    "### 수험표만들기"
   ]
  },
  {
   "cell_type": "code",
   "execution_count": 9,
   "metadata": {},
   "outputs": [],
   "source": [
    "from pptx import Presentation\n",
    "from pptx.util import Pt\n",
    "import pandas as pd\n",
    "import copy\n"
   ]
  },
  {
   "cell_type": "code",
   "execution_count": 10,
   "metadata": {},
   "outputs": [],
   "source": [
    "df = pd.read_excel(\"./수험번호2.xlsx\")\n",
    "prs = Presentation(\"./수험표_샘플.pptx\")\n",
    "\n",
    "names = iter(df['이름'])\n",
    "nos = iter(df[\"수험번호\"])\n",
    "cnt = len(list(iter(df[\"수험번호\"])))"
   ]
  },
  {
   "cell_type": "code",
   "execution_count": 11,
   "metadata": {},
   "outputs": [],
   "source": [
    "def copy_slide(prs, org_slide):\n",
    "    copied_slide = prs.slides.add_slide(org_slide.slide_layout) # 슬라이드 추가 -  레이아웃 복사\n",
    "    for shape in org_slide.shapes:  \n",
    "        org_el = shape.element                                  # 원본 슬라이드의 모든 요소를 가져옴\n",
    "        new_el = copy.deepcopy(org_el)                          # 요소를 복사\n",
    "        copied_slide.shapes._spTree.insert_element_before(new_el, \"p:extLst\") # 복사한 요소를 슬라이드에 추가\n",
    "    \n",
    "    for value in org_slide.part.rels:    \n",
    "        if hasattr(value, 'reltype') and \"notesSlide\" not in value.reltype:                 # 원본 슬라이드의 모든 링크를 가져옴      \n",
    "        #if \"notesSlide\" not in value.reltype:             # notesSlide(노트)는 제외\n",
    "            # 복사한 슬라이드에 링크를 추가          link type,     링크 대상\n",
    "            copied_slide.part.rels.get_or_add(value.reltype, value._target)\n",
    "    return copied_slide"
   ]
  },
  {
   "cell_type": "code",
   "execution_count": 12,
   "metadata": {},
   "outputs": [],
   "source": [
    "for i in range(int(cnt/2)):\n",
    "    next_slide = copy_slide(prs, prs.slides[0])     # 첫번째 슬라이드 복사\n",
    "    for shape in next_slide.shapes:                 # 복사한 슬라이드의 모든 요소를 가져옴\n",
    "        if shape.shape_type == 17 and shape.text == \"이름\":   # 텍스트 상자이고, 텍스트가 \"이름\"인 경우\n",
    "            shape.text_frame.paragraphs[0].text = next(names) # 텍스트를 이름으로 변경\n",
    "            shape.text_frame.paragraphs[0].font.size = Pt(40)\n",
    "            shape.text_frame.paragraphs[0].font.bold = True\n",
    "            shape.text_frame.paragraphs[0].font.name = \"나눔고딕\"\n",
    "        if shape.shape_type == 17 and shape.text == \"수험번호\":\n",
    "            shape.text_frame.paragraphs[0].text = next(nos)\n",
    "            shape.text_frame.paragraphs[0].font.size = Pt(40)\n",
    "            shape.text_frame.paragraphs[0].font.bold = True\n",
    "            shape.text_frame.paragraphs[0].font.name = \"나눔고딕\"\n",
    "\n",
    "prs.save(\"수험표_결과.pptx\")"
   ]
  }
 ],
 "metadata": {
  "kernelspec": {
   "display_name": "Python 3",
   "language": "python",
   "name": "python3"
  },
  "language_info": {
   "codemirror_mode": {
    "name": "ipython",
    "version": 3
   },
   "file_extension": ".py",
   "mimetype": "text/x-python",
   "name": "python",
   "nbconvert_exporter": "python",
   "pygments_lexer": "ipython3",
   "version": "3.11.5"
  }
 },
 "nbformat": 4,
 "nbformat_minor": 2
}
