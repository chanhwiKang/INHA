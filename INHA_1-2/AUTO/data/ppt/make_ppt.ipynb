{
 "cells": [
  {
   "cell_type": "code",
   "execution_count": 6,
   "metadata": {},
   "outputs": [
    {
     "name": "stdout",
     "output_type": "stream",
     "text": [
      "한글 제목\n",
      "안녕하세요. 두번째 슬라이드 입니다.\n",
      "오늘은 날씨가 좋습니다.\n",
      "행복하세요.\n",
      "세번째 슬라이드 입니다.\n",
      "소 잃고 외양간 고친다.\n",
      "호랑이에게 물려가도 정신만 바짝 차리면 산다.\n",
      "\n"
     ]
    }
   ],
   "source": [
    "from pptx import Presentation\n",
    "from pptx.util import Pt\n",
    "\n",
    "prs = Presentation(\"./한글.pptx\")\n",
    "\n",
    "for slide in prs.slides:\n",
    "    for shape in slide.shapes:\n",
    "        if shape.shape_type == 14 or 17:\n",
    "            print(shape.text)"
   ]
  },
  {
   "cell_type": "code",
   "execution_count": 7,
   "metadata": {},
   "outputs": [],
   "source": [
    "from googletrans import Translator\n",
    "\n",
    "translator = Translator()"
   ]
  },
  {
   "cell_type": "code",
   "execution_count": 12,
   "metadata": {},
   "outputs": [],
   "source": [
    "for slide in prs.slides:\n",
    "    for shape in slide.shapes:\n",
    "        if shape.shape_type == 14 or 17:\n",
    "            result = translator.translate(shape.text)\n",
    "            shape.text_frame.text = result.text\n",
    "prs.save(\"영문.pptx\")"
   ]
  }
 ],
 "metadata": {
  "kernelspec": {
   "display_name": "Python 3",
   "language": "python",
   "name": "python3"
  },
  "language_info": {
   "codemirror_mode": {
    "name": "ipython",
    "version": 3
   },
   "file_extension": ".py",
   "mimetype": "text/x-python",
   "name": "python",
   "nbconvert_exporter": "python",
   "pygments_lexer": "ipython3",
   "version": "3.11.5"
  }
 },
 "nbformat": 4,
 "nbformat_minor": 2
}
