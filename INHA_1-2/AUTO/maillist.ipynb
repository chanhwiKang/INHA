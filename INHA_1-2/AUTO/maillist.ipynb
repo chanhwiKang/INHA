{
 "cells": [
  {
   "cell_type": "code",
   "execution_count": 5,
   "metadata": {},
   "outputs": [],
   "source": [
    "from faker import Faker\n",
    "import pandas as pd\n",
    "\n",
    "# 가상 데이터 생성을 위한 Faker 객체 생성\n",
    "fake = Faker(\"ko-kr\")\n",
    "\n",
    "# 데이터 생성\n",
    "data = []\n",
    "for _ in range(10):\n",
    "    name = fake.name()\n",
    "    score = fake.random_int(min=60, max=100)\n",
    "    email = fake.email()\n",
    "    data.append([name, score, email])\n",
    "\n",
    "# 데이터프레임 생성\n",
    "df = pd.DataFrame(data, columns=[\"이름\", \"점수\", \"이메일\"])\n",
    "\n",
    "# 엑셀 파일로 저장\n",
    "df.to_excel(\"메일링리스트2.xlsx\", index=False)\n"
   ]
  }
 ],
 "metadata": {
  "kernelspec": {
   "display_name": "Python 3",
   "language": "python",
   "name": "python3"
  },
  "language_info": {
   "codemirror_mode": {
    "name": "ipython",
    "version": 3
   },
   "file_extension": ".py",
   "mimetype": "text/x-python",
   "name": "python",
   "nbconvert_exporter": "python",
   "pygments_lexer": "ipython3",
   "version": "3.11.5"
  }
 },
 "nbformat": 4,
 "nbformat_minor": 2
}
