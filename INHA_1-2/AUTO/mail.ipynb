{
 "cells": [
  {
   "cell_type": "code",
   "execution_count": 10,
   "metadata": {},
   "outputs": [],
   "source": [
    "import smtplib\n",
    "from email.mime.text import MIMEText\n",
    "from email.header import Header"
   ]
  },
  {
   "cell_type": "code",
   "execution_count": 11,
   "metadata": {},
   "outputs": [
    {
     "data": {
      "text/plain": [
       "(235, b'2.7.0 Accepted ZPD80xt0T-y9GmoF4B1CXQ - nsmtp')"
      ]
     },
     "execution_count": 11,
     "metadata": {},
     "output_type": "execute_result"
    }
   ],
   "source": [
    "smtp = smtplib.SMTP(\"smtp.naver.com\", 587)\n",
    "smtp.ehlo()\n",
    "smtp.starttls()\n",
    "smtp.login(\"9534924\", \"minaroko0324\")"
   ]
  },
  {
   "cell_type": "code",
   "execution_count": 12,
   "metadata": {},
   "outputs": [
    {
     "data": {
      "text/plain": [
       "{}"
      ]
     },
     "execution_count": 12,
     "metadata": {},
     "output_type": "execute_result"
    }
   ],
   "source": [
    "me = \"9534924@naver.com\"\n",
    "you = \"kktpsh@naver.com\"\n",
    "subject = \"컴퓨터정보 1학년 강찬휘\"\n",
    "message = \"인하하하 RPA 이메일 처리 수업 중입니다.\"\n",
    "msg = MIMEText(message.encode(\"utf-8\"), _subtype=\"plain\", _charset=\"utf-8\")\n",
    "msg['subject'] = Header(subject.encode(\"utf-8\"), 'utf-8')\n",
    "msg['From'] = me\n",
    "msg['To'] = you\n",
    "\n",
    "smtp.sendmail(me, you, msg.as_string())\n",
    "smtp.quit()"
   ]
  }
 ],
 "metadata": {
  "kernelspec": {
   "display_name": "Python 3",
   "language": "python",
   "name": "python3"
  },
  "language_info": {
   "codemirror_mode": {
    "name": "ipython",
    "version": 3
   },
   "file_extension": ".py",
   "mimetype": "text/x-python",
   "name": "python",
   "nbconvert_exporter": "python",
   "pygments_lexer": "ipython3",
   "version": "3.11.5"
  }
 },
 "nbformat": 4,
 "nbformat_minor": 2
}
