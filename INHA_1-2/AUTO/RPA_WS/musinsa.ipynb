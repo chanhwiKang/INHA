{
 "cells": [
  {
   "cell_type": "code",
   "execution_count": 47,
   "metadata": {},
   "outputs": [],
   "source": [
    "# 202344073 강찬휘\n",
    "from selenium import webdriver\n",
    "from selenium.webdriver.chrome.service import Service\n",
    "from selenium.webdriver.chrome.options import Options\n",
    "from selenium.webdriver.common.keys import Keys\n",
    "from selenium.webdriver.common.by import By\n",
    "from webdriver_manager.chrome import ChromeDriverManager\n",
    "from openpyxl import load_workbook\n",
    "from openpyxl import Workbook\n",
    "import time"
   ]
  },
  {
   "cell_type": "code",
   "execution_count": 48,
   "metadata": {},
   "outputs": [
    {
     "name": "stdout",
     "output_type": "stream",
     "text": [
      "무신사 스토어\n",
      "done\n"
     ]
    }
   ],
   "source": [
    "options = Options()\n",
    "options.add_experimental_option(\"detach\", True)\n",
    "service = Service(ChromeDriverManager().install())\n",
    "driver = webdriver.Chrome(service=service, options=options)\n",
    "driver.get(\"https://www.musinsa.com/app/?skip_bf=Y\")\n",
    "\n",
    "print(driver.title)\n",
    "time.sleep(1)\n",
    "# goods data 저장할 dict 생성\n",
    "goodsInfo = {}\n",
    "\n",
    "driver.find_element(By.ID, \"commonLayoutSearchForm\").send_keys(\"소가죽 더비\"+ Keys.RETURN)\n",
    "driver.find_element(By.XPATH, \"/html/body/div[2]/div[2]/section/div[3]/div/section[1]/a\").click()\n",
    "goodsHrefName = driver.find_elements(By.CLASS_NAME, 'img-block')\n",
    "goodsPrice = driver.find_elements(By.CLASS_NAME, 'price')\n",
    "\n",
    "goodsHrefName.insert(0, goodsHrefName[0])\n",
    "\n",
    "for i in range(len(goodsPrice)):\n",
    "    # 할인가가 있을 경우, 정상가 삭제.\n",
    "    try:\n",
    "        price_text = str(goodsPrice[i].text)\n",
    "        del_tag = goodsPrice[i].find_element(By.CSS_SELECTOR, \"del\")\n",
    "        goodsPrice[i] = price_text.replace(del_tag.text, \"\").strip()\n",
    "    except:\n",
    "        pass\n",
    "\n",
    "    title = goodsHrefName[i].get_attribute('title')\n",
    "    url = goodsHrefName[i].get_attribute('href')\n",
    "\n",
    "    goodsInfo[title] = [url, goodsPrice[i]]\n",
    "workbook = Workbook()\n",
    "\n",
    "# 현재 활성화된 시트 선택\n",
    "sheet = workbook.active\n",
    "\n",
    "# 헤더 추가\n",
    "sheet['A1'] = '상품명'\n",
    "sheet['B1'] = '상품 URL'\n",
    "sheet['C1'] = '가격'\n",
    "\n",
    "# 데이터 입력\n",
    "row = 2  # 첫 번째 데이터 행은 헤더 아래부터 시작\n",
    "for product_name, product_info in goodsInfo.items():\n",
    "    sheet.cell(row=row, column=1, value=product_name)\n",
    "    sheet.cell(row=row, column=2, value=product_info[0])\n",
    "    if type(product_info[1]) != str:\n",
    "        product_info[1] = product_info[1].text\n",
    "    sheet.cell(row=row, column=3, value=product_info[1])\n",
    "    row += 1\n",
    "\n",
    "# 엑셀 파일 저장\n",
    "workbook.save('products.xlsx')\n",
    "print(\"done\")\n"
   ]
  }
 ],
 "metadata": {
  "kernelspec": {
   "display_name": "Python 3",
   "language": "python",
   "name": "python3"
  },
  "language_info": {
   "codemirror_mode": {
    "name": "ipython",
    "version": 3
   },
   "file_extension": ".py",
   "mimetype": "text/x-python",
   "name": "python",
   "nbconvert_exporter": "python",
   "pygments_lexer": "ipython3",
   "version": "3.11.5"
  },
  "orig_nbformat": 4
 },
 "nbformat": 4,
 "nbformat_minor": 2
}
