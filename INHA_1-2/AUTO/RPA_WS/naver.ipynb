{
 "cells": [
  {
   "cell_type": "code",
   "execution_count": 18,
   "metadata": {},
   "outputs": [],
   "source": [
    "from selenium import webdriver\n",
    "from selenium.webdriver.chrome.service import Service\n",
    "from selenium.webdriver.chrome.options import Options\n",
    "from selenium.webdriver.common.keys import Keys\n",
    "from selenium.webdriver.common.by import By\n",
    "from webdriver_manager.chrome import ChromeDriverManager\n",
    "import time"
   ]
  },
  {
   "cell_type": "code",
   "execution_count": 19,
   "metadata": {},
   "outputs": [
    {
     "name": "stdout",
     "output_type": "stream",
     "text": [
      "Google\n"
     ]
    }
   ],
   "source": [
    "options = Options()\n",
    "options.add_experimental_option(\"detach\", True)\n",
    "service = Service(ChromeDriverManager().install())\n",
    "driver = webdriver.Chrome(service=service, options=options)\n",
    "# driver.get(\"https://www.naver.com/\")\n",
    "driver.get(\"https://www.google.com/\")\n",
    "print(driver.title)\n",
    "time.sleep(2)\n",
    "\n",
    "# driver.find_element(By.ID, \"query\").send_keys(\"인하공전\"+ Keys.RETURN)\n",
    "# driver.find_element(By.CLASS_NAME, \"btn_search\").click()\n",
    "# driver.find_element(By.LINK_TEXT, \"쇼핑\").click()\n",
    "\n",
    "# names = driver.find_elements(By.CLASS_NAME, \"service_name\")\n",
    "# for i in names:\n",
    "#     print(i.text)\n",
    "\n",
    "driver.find_element(By.ID, \"APjFqb\").send_keys(\"트릭컬 버터\" + Keys.RETURN)\n",
    "driver.find_element(By.CLASS_NAME, \"hdtb-mitem\").click()\n"
   ]
  }
 ],
 "metadata": {
  "kernelspec": {
   "display_name": "Python 3",
   "language": "python",
   "name": "python3"
  },
  "language_info": {
   "codemirror_mode": {
    "name": "ipython",
    "version": 3
   },
   "file_extension": ".py",
   "mimetype": "text/x-python",
   "name": "python",
   "nbconvert_exporter": "python",
   "pygments_lexer": "ipython3",
   "version": "3.11.5"
  },
  "orig_nbformat": 4
 },
 "nbformat": 4,
 "nbformat_minor": 2
}
