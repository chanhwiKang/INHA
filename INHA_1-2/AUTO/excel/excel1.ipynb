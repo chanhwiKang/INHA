{
 "cells": [
  {
   "cell_type": "markdown",
   "metadata": {},
   "source": [
    "# 엑셀 만들기\n",
    "- openpyxl 사용"
   ]
  },
  {
   "cell_type": "code",
   "execution_count": 8,
   "metadata": {},
   "outputs": [
    {
     "name": "stdout",
     "output_type": "stream",
     "text": [
      "['Sheet', '내 시트', 'new_sheet2']\n"
     ]
    }
   ],
   "source": [
    "from openpyxl import Workbook\n",
    "\n",
    "wb = Workbook()\n",
    "\n",
    "ws = wb.active\n",
    "ws2 = wb.create_sheet(\"new_sheet2\")\n",
    "ws3 = wb.create_sheet(\"내 시트\", 1)\n",
    "sheet_names = wb.sheetnames\n",
    "print(sheet_names)"
   ]
  },
  {
   "cell_type": "code",
   "execution_count": 9,
   "metadata": {},
   "outputs": [
    {
     "name": "stdout",
     "output_type": "stream",
     "text": [
      "주소록\n"
     ]
    }
   ],
   "source": [
    "ws = wb[\"Sheet\"]\n",
    "ws.title = \"주소록\"\n",
    "print(ws.title)\n",
    "\n",
    "ws['A1'] = \"이름\"\n",
    "ws['B1'] = \"전화번호\"\n",
    "\n",
    "ws['A2'] = \"홍길동\"\n",
    "ws['B2'] = \"111-1111\"\n",
    "\n",
    "ws.cell(row=3, column=1, value=\"홍길순\")\n",
    "ws.cell(row=3, column=2, value=\"222-2222\")\n",
    "\n",
    "wb.save(\"addr.xlsx\")"
   ]
  }
 ],
 "metadata": {
  "kernelspec": {
   "display_name": "Python 3",
   "language": "python",
   "name": "python3"
  },
  "language_info": {
   "codemirror_mode": {
    "name": "ipython",
    "version": 3
   },
   "file_extension": ".py",
   "mimetype": "text/x-python",
   "name": "python",
   "nbconvert_exporter": "python",
   "pygments_lexer": "ipython3",
   "version": "3.11.5"
  }
 },
 "nbformat": 4,
 "nbformat_minor": 2
}
