{
 "cells": [
  {
   "cell_type": "markdown",
   "metadata": {},
   "source": []
  },
  {
   "cell_type": "markdown",
   "metadata": {},
   "source": [
    "### 개별 셀 데이터 입력"
   ]
  },
  {
   "cell_type": "code",
   "execution_count": 4,
   "metadata": {},
   "outputs": [],
   "source": [
    "from openpyxl import Workbook\n",
    "import math\n",
    "import datetime\n",
    "wb = Workbook()\n",
    "ws = wb.active\n",
    "\n",
    "ws['A1'] = \"홍길동\"\n",
    "ws['A2'] = 1234\n",
    "ws['A3'] = math.pi\n",
    "ws['A4'] = datetime.datetime(2023, 11, 3, 16, 30, 0)\n",
    "ws['A5'] = \"=A2 + 10\"\n",
    "\n",
    "wb.save(\"test.xlsx\")"
   ]
  },
  {
   "cell_type": "code",
   "execution_count": 10,
   "metadata": {},
   "outputs": [
    {
     "name": "stdout",
     "output_type": "stream",
     "text": [
      "<Cell 'Sheet'.A1> 1\n",
      "<Cell 'Sheet'.B1> 2\n",
      "<Cell 'Sheet'.C1> 3\n",
      "<Cell 'Sheet'.A2> 4\n",
      "<Cell 'Sheet'.B2> 5\n",
      "<Cell 'Sheet'.C2> 6\n"
     ]
    }
   ],
   "source": [
    "wb2 = Workbook()\n",
    "ws2 = wb2.active\n",
    "data = [(1, 2, 3), (4, 5, 6)]\n",
    "\n",
    "for row, drow in zip(ws2[\"A1\":\"C2\"], data):\n",
    "    for cell, value in zip(row, drow):\n",
    "        print(cell, value)\n",
    "        cell.value = value\n",
    "wb2.save(\"test2.xlsx\")"
   ]
  },
  {
   "cell_type": "code",
   "execution_count": 23,
   "metadata": {},
   "outputs": [
    {
     "name": "stdout",
     "output_type": "stream",
     "text": [
      "('id', '이름', '나이')\n",
      "(1, '홍길동', 30)\n",
      "(2, '최흥민', 26)\n"
     ]
    }
   ],
   "source": [
    "from openpyxl.styles import PatternFill, Font\n",
    "\n",
    "wb3 = Workbook()\n",
    "ws3 = wb3.active\n",
    "data = [(\"id\", \"이름\", \"나이\"), \n",
    "        (1, \"홍길동\", 30), \n",
    "        (2, \"최흥민\", 26)]\n",
    "\n",
    "for row in data:\n",
    "    print(row)\n",
    "    ws3.append(row) # 한줄씩 넣음\n",
    "\n",
    "ws3.column_dimensions[\"A\"].width = 20\n",
    "\n",
    "fill = PatternFill(start_color=\"00ff00\", fill_type=\"solid\")\n",
    "ws3[\"A1\"].fill = fill\n",
    "\n",
    "font = Font(name='궁서체', size=12, color=\"ff0000\", italic=True)\n",
    "ws3[\"B1\"].font = font\n",
    "ws3[\"B2\"].font = font\n",
    "\n",
    "wb3.save(\"test3.xlsx\")"
   ]
  }
 ],
 "metadata": {
  "kernelspec": {
   "display_name": "Python 3",
   "language": "python",
   "name": "python3"
  },
  "language_info": {
   "codemirror_mode": {
    "name": "ipython",
    "version": 3
   },
   "file_extension": ".py",
   "mimetype": "text/x-python",
   "name": "python",
   "nbconvert_exporter": "python",
   "pygments_lexer": "ipython3",
   "version": "3.11.5"
  }
 },
 "nbformat": 4,
 "nbformat_minor": 2
}
